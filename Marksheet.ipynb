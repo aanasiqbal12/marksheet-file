{
 "cells": [
  {
   "cell_type": "code",
   "execution_count": 27,
   "metadata": {},
   "outputs": [
    {
     "name": "stdout",
     "output_type": "stream",
     "text": [
      "Enter English Marks   = 90\n",
      "Enter Urdu Marks      = 90\n",
      "Enter Islamiat Marks  = 90\n",
      "Enter Physics Marks   = 90\n",
      "Enter Math Marks      = 130\n",
      "\n",
      "Obtained Marks =  490\n",
      "Percentage =  98.0 %\n",
      " A+ Grade\n"
     ]
    }
   ],
   "source": [
    "Eng  = eval(input(\"Enter English Marks   = \"))\n",
    "Urdu = eval(input(\"Enter Urdu Marks      = \"))\n",
    "Isl  = eval(input(\"Enter Islamiat Marks  = \"))\n",
    "Phy  = eval(input(\"Enter Physics Marks   = \"))\n",
    "Math = eval(input(\"Enter Math Marks      = \"))\n",
    "obtained_Marks = Eng + Urdu + Isl + Phy + Math\n",
    "\n",
    "if (Eng or Urdu or Isl or Phy or Math) < 100 and obtained_Marks < 500:\n",
    "\n",
    "    print (\"\\nObtained Marks = \" , obtained_Marks)\n",
    "    percentage = (obtained_Marks / 500)*100\n",
    "\n",
    "    print(\"Percentage = \" , percentage , \"%\")\n",
    "\n",
    "    obtain = str(obtained_Marks)\n",
    "    per = str(percentage)\n",
    "\n",
    "    if percentage >= 80 :\n",
    "        a = print(\" A+ Grade\")\n",
    "        new=open(\"Grade.txt\",\"w+\")\n",
    "        new.write(\"\\nObtained Marks = \"+obtain)\n",
    "        new.write(\"\\nPercentage  = \"+per)\n",
    "        new.write(\"\\n A+ Grade\")    \n",
    "        new.close()\n",
    "\n",
    "    elif percentage >= 70 :\n",
    "        b = print(\" A Grade\")\n",
    "        new=open(\"Grade.txt\",\"w+\")\n",
    "        new.write(\"\\nObtained Marks = \"+obtain)\n",
    "        new.write(\"\\nPercentage  = \"+per)\n",
    "        new.write(\" A Grade\")\n",
    "        new.close()\n",
    "\n",
    "    elif percentage >= 60 :\n",
    "        c = print(\" B Grade\")\n",
    "        new=open(\"Grade.txt\",\"w+\")\n",
    "        new.write(\"\\nObtained Marks = \"+obtain)\n",
    "        new.write(\"\\nPercentage  = \"+per)\n",
    "        new.write(\" B Grade\")\n",
    "        new.close()\n",
    "\n",
    "    elif percentage >= 50 :\n",
    "        d = print(\" C Grade\")\n",
    "        new=open(\"Grade.txt\",\"w+\")\n",
    "        new.write(\"\\nObtained Marks = \"+obtain)\n",
    "        new.write(\"\\nPercentage  = \"+per)\n",
    "        new.write(' C Grade')\n",
    "        new.close()\n",
    "\n",
    "    elif percentage >= 40 :\n",
    "        e = print(\" D Grade\")\n",
    "        new=open(\"Grade.txt\",\"w+\")\n",
    "        new.write(\"\\nObtained Marks = \"+obtain)\n",
    "        new.write(\"\\nPercentage  = \"+per)\n",
    "        new.write(\"\\n D Grade\")\n",
    "        new.close()\n",
    "\n",
    "    else :\n",
    "        f = print (\" Fail \")\n",
    "        new=open(\"Grade_Student.txt\",\"w+\")\n",
    "        new.write(\"\\nObtained Marks = \"+obtain)\n",
    "        new.write(\"\\nPercentage  = \"+per)\n",
    "        new.write(\"\\n Fail Hogia nikkammaaa bachaa\")\n",
    "        new.close()\n",
    "else:\n",
    "    print(\"Wrong Data input\")"
   ]
  },
  {
   "cell_type": "markdown",
   "metadata": {},
   "source": []
  }
 ],
 "metadata": {
  "kernelspec": {
   "display_name": "Python 3",
   "language": "python",
   "name": "python3"
  },
  "language_info": {
   "codemirror_mode": {
    "name": "ipython",
    "version": 3
   },
   "file_extension": ".py",
   "mimetype": "text/x-python",
   "name": "python",
   "nbconvert_exporter": "python",
   "pygments_lexer": "ipython3",
   "version": "3.7.3"
  }
 },
 "nbformat": 4,
 "nbformat_minor": 2
}
